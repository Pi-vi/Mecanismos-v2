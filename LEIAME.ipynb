{
 "cells": [
  {
   "cell_type": "markdown",
   "metadata": {
    "editable": true,
    "slideshow": {
     "slide_type": "slide"
    },
    "tags": []
   },
   "source": [
    "# Mecanismos\n",
    "Professor Paulo Victor <br>\n",
    "e-mail: paulo.gomes@cefet-rj.br <br>\n",
    "CEFET/RJ Campus Angra dos Reis - Sala 17C"
   ]
  },
  {
   "cell_type": "markdown",
   "metadata": {
    "editable": true,
    "slideshow": {
     "slide_type": "slide"
    },
    "tags": []
   },
   "source": [
    "## Ementa: \n",
    "1. [Introdução ao Estudo dos Mecanismos](Mecs1.ipynb)\n",
    "2. [Fundamentos da Cinemática e Tipos de Mecanismos](Mecs2.ipynb)\n",
    "3. [Análise de posição](Mecs3.ipynb)\n",
    "4. [Análise de velocidade]\n",
    "5. [Análise de aceleração]\n",
    "6. [Transmissão por engrenagens]\n",
    "7. [Cames]\n",
    "8. [Síntese de mecanismos]\n",
    "\n"
   ]
  },
  {
   "cell_type": "markdown",
   "metadata": {
    "editable": true,
    "slideshow": {
     "slide_type": "slide"
    },
    "tags": []
   },
   "source": [
    "## Objetivos\n",
    "* Iniciação e capacitação dos alunos em conhecimentos nas principais áreas relacionadas a Mecanismos e Dinâmica das Máquinas."
   ]
  },
  {
   "cell_type": "markdown",
   "metadata": {
    "editable": true,
    "slideshow": {
     "slide_type": "slide"
    },
    "tags": []
   },
   "source": [
    "## Bibliografia Recomendada:\n",
    "* NORTON, R. Cinemática e dinâmica dos mecanismos. Porto Alegre: Ed. AMGH, 2010.\n",
    "* MABIE, H. Mecanismos e Dinâmica das Máquinas. Rio de Janeiro: Livro Técnico S.A."
   ]
  },
  {
   "cell_type": "markdown",
   "metadata": {
    "slideshow": {
     "slide_type": "slide"
    }
   },
   "source": [
    "## Links Recomendados: \n",
    "* [Google Colab](https://colab.research.google.com)\n",
    "* [motiongen](motiongen.io)\n",
    "* [507 Mechanical Movements](http://507movements.com/)\n",
    "* [How Stuff Works](https://www.howstuffworks.com/)\n",
    "* [Canal Youtube](https://www.youtube.com/user/thang010146)\n",
    "* [Canal Youtube](https://www.youtube.com/user/mekanizmalar)"
   ]
  },
  {
   "cell_type": "markdown",
   "metadata": {
    "editable": true,
    "slideshow": {
     "slide_type": "slide"
    },
    "tags": []
   },
   "source": [
    "## Forma de Avaliação:\n",
    "1. P1 →  Prova (7 pontos) + Trabalho em duplas (3 pontos)  \n",
    "2. P2 →  Prova (7 pontos) + Trabalho em duplas (3 pontos)  \n",
    "3. Prova Final (em caso de 3.0 $\\leq$ Média $<$ 7.0)"
   ]
  },
  {
   "cell_type": "markdown",
   "metadata": {
    "editable": true,
    "slideshow": {
     "slide_type": "slide"
    },
    "tags": []
   },
   "source": [
    "## Datas Importantes\n",
    "* Período de Trancamento:\n",
    " \n",
    "* Avaliações:\n",
    " >P1: 27/11/2024 <br>\n",
    " >P2: 28/01/2025<br>\n",
    " >P3: 04/02/2025 <br>\n",
    " >PF: 17/02/2025"
   ]
  },
  {
   "cell_type": "markdown",
   "metadata": {
    "editable": true,
    "slideshow": {
     "slide_type": ""
    },
    "tags": []
   },
   "source": [
    "-----"
   ]
  },
  {
   "cell_type": "markdown",
   "metadata": {
    "editable": true,
    "slideshow": {
     "slide_type": ""
    },
    "tags": []
   },
   "source": [
    "[Avançar para o próximo capítulo](Mecs1.ipynb)"
   ]
  }
 ],
 "metadata": {
  "kernelspec": {
   "display_name": "Python 3 (ipykernel)",
   "language": "python",
   "name": "python3"
  },
  "language_info": {
   "codemirror_mode": {
    "name": "ipython",
    "version": 3
   },
   "file_extension": ".py",
   "mimetype": "text/x-python",
   "name": "python",
   "nbconvert_exporter": "python",
   "pygments_lexer": "ipython3",
   "version": "3.11.5"
  }
 },
 "nbformat": 4,
 "nbformat_minor": 4
}
